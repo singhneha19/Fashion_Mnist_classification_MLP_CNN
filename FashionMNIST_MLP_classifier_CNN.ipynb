{
 "cells": [
  {
   "cell_type": "markdown",
   "metadata": {},
   "source": [
    "# Assignment 4 Dataset:\n",
    "\n",
    "Use fashion-mnist dataset for this assignment. You will have a chance to explore various Deep Learning models in this Assignment.\n",
    "\n",
    "# Dataset description:\n",
    "\n",
    "Fashion-MNIST is a dataset of Zalando's article images—consisting of a training set of 60,000 examples and a test set of 10,000 examples. Each example is a 28x28 grayscale image, associated with a label from 10 classes. Zalando intends Fashion-MNIST to serve as a direct drop-in replacement for the original MNIST dataset for benchmarking machine learning algorithms. It shares the same image size and structure of training and testing splits.\n",
    "\n",
    "# Labels:\n",
    "Each training and test example is assigned to one of the following labels:\n",
    "\n",
    "0. T-shirt/top\n",
    "1. Trouser\n",
    "2. Pullover\n",
    "3. Dress\n",
    "4. Coat\n",
    "5. Sandal\n",
    "6. Shirt\n",
    "7. Sneaker\n",
    "8. Bag\n",
    "9. Ankle boot\n",
    "\n",
    "\n",
    "\n",
    "\n",
    "# Assignment 4 - Questions\n",
    "\n",
    "This Assignment focuses on exploring various Deep Learning models(neural networks) and model building.\n",
    "\n",
    "10. optional: Try any advanced deep learning model\n",
    "\n",
    "Submit the .ipynb, and .html \n"
   ]
  },
  {
   "cell_type": "markdown",
   "metadata": {},
   "source": [
    "# 1Loading Data\n",
    "Load the fashion-mnist dataset from the tensorflow datasets or download from kaggle(https://www.kaggle.com/zalando-research/fashionmnist)"
   ]
  },
  {
   "cell_type": "code",
   "execution_count": 1,
   "metadata": {},
   "outputs": [],
   "source": [
    "from tensorflow import keras\n",
    "import numpy as np\n",
    "import pandas as pd\n",
    "import tensorflow as tf\n",
    "from sklearn.model_selection import train_test_split\n",
    "from sklearn.metrics import classification_report\n",
    "from tensorflow.keras.utils import to_categorical\n",
    "from tensorflow.python.keras.models import Sequential\n",
    "from tensorflow.python.keras.layers import Dense, Flatten, Conv2D, Dropout, MaxPooling2D\n",
    "import matplotlib\n",
    "import matplotlib.pyplot as plt"
   ]
  },
  {
   "cell_type": "code",
   "execution_count": 2,
   "metadata": {},
   "outputs": [
    {
     "data": {
      "text/plain": [
       "'2.2.0'"
      ]
     },
     "execution_count": 2,
     "metadata": {},
     "output_type": "execute_result"
    }
   ],
   "source": [
    "tf.__version__"
   ]
  },
  {
   "cell_type": "code",
   "execution_count": 3,
   "metadata": {},
   "outputs": [],
   "source": [
    "fashion_mnist = keras.datasets.fashion_mnist\n",
    "(X_train_full, y_train_full), (X_test, y_test) = fashion_mnist.load_data()"
   ]
  },
  {
   "cell_type": "code",
   "execution_count": 4,
   "metadata": {},
   "outputs": [
    {
     "data": {
      "text/plain": [
       "array([[[0, 0, 0, ..., 0, 0, 0],\n",
       "        [0, 0, 0, ..., 0, 0, 0],\n",
       "        [0, 0, 0, ..., 0, 0, 0],\n",
       "        ...,\n",
       "        [0, 0, 0, ..., 0, 0, 0],\n",
       "        [0, 0, 0, ..., 0, 0, 0],\n",
       "        [0, 0, 0, ..., 0, 0, 0]],\n",
       "\n",
       "       [[0, 0, 0, ..., 0, 0, 0],\n",
       "        [0, 0, 0, ..., 0, 0, 0],\n",
       "        [0, 0, 0, ..., 0, 0, 0],\n",
       "        ...,\n",
       "        [0, 0, 0, ..., 0, 0, 0],\n",
       "        [0, 0, 0, ..., 0, 0, 0],\n",
       "        [0, 0, 0, ..., 0, 0, 0]],\n",
       "\n",
       "       [[0, 0, 0, ..., 0, 0, 0],\n",
       "        [0, 0, 0, ..., 0, 0, 0],\n",
       "        [0, 0, 0, ..., 0, 0, 0],\n",
       "        ...,\n",
       "        [0, 0, 0, ..., 0, 0, 0],\n",
       "        [0, 0, 0, ..., 0, 0, 0],\n",
       "        [0, 0, 0, ..., 0, 0, 0]]], dtype=uint8)"
      ]
     },
     "execution_count": 4,
     "metadata": {},
     "output_type": "execute_result"
    }
   ],
   "source": [
    "X_train_full[:3]"
   ]
  },
  {
   "cell_type": "code",
   "execution_count": 5,
   "metadata": {},
   "outputs": [
    {
     "data": {
      "text/plain": [
       "numpy.ndarray"
      ]
     },
     "execution_count": 5,
     "metadata": {},
     "output_type": "execute_result"
    }
   ],
   "source": [
    "type(X_train_full)"
   ]
  },
  {
   "cell_type": "code",
   "execution_count": 6,
   "metadata": {},
   "outputs": [
    {
     "data": {
      "text/plain": [
       "(60000,)"
      ]
     },
     "execution_count": 6,
     "metadata": {},
     "output_type": "execute_result"
    }
   ],
   "source": [
    "y_train_full.shape"
   ]
  },
  {
   "cell_type": "code",
   "execution_count": 7,
   "metadata": {},
   "outputs": [
    {
     "data": {
      "text/plain": [
       "'Ankle boot'"
      ]
     },
     "execution_count": 7,
     "metadata": {},
     "output_type": "execute_result"
    }
   ],
   "source": [
    " class_names = [\"T-shirt/top\", \"Trouser\", \"Pullover\", \"Dress\", \"Coat\",\n",
    "               \"Sandal\", \"Shirt\", \"Sneaker\", \"Bag\", \"Ankle boot\"]\n",
    "class_names[y_train_full[0]]"
   ]
  },
  {
   "cell_type": "code",
   "execution_count": 8,
   "metadata": {},
   "outputs": [
    {
     "data": {
      "text/plain": [
       "<matplotlib.image.AxesImage at 0x21710017d08>"
      ]
     },
     "execution_count": 8,
     "metadata": {},
     "output_type": "execute_result"
    },
    {
     "data": {
      "image/png": "[encoded data removed]",
      "text/plain": [
       "<Figure size 432x288 with 1 Axes>"
      ]
     },
     "metadata": {
      "needs_background": "light"
     },
     "output_type": "display_data"
    }
   ],
   "source": [
    "plt.figure()\n",
    "plt.imshow(np.squeeze(X_train_full[320]))"
   ]
  },
  {
   "cell_type": "code",
   "execution_count": 9,
   "metadata": {},
   "outputs": [
    {
     "data": {
      "text/plain": [
       "5"
      ]
     },
     "execution_count": 9,
     "metadata": {},
     "output_type": "execute_result"
    }
   ],
   "source": [
    "y_train_full[320]"
   ]
  },
  {
   "cell_type": "markdown",
   "metadata": {},
   "source": [
    "# Data normalization & Spliting  the dataset\n",
    "2.Normalize the data - briefly comment why we need to normalize?\n",
    "\n",
    "3.Split the dataset into train(50,000), valid(10,000) and test sets(10,000)"
   ]
  },
  {
   "cell_type": "code",
   "execution_count": 10,
   "metadata": {},
   "outputs": [],
   "source": [
    "#create validation data as well, plus scaling down x values from 1-255 to 0-1 scale\n",
    "X_valid, X_train = X_train_full[:10000] / 255.0, X_train_full[10000:] / 255.0\n",
    "X_test_n = X_test / 255.0\n",
    "y_valid, y_train = y_train_full[:10000], y_train_full[10000:]"
   ]
  },
  {
   "cell_type": "code",
   "execution_count": 11,
   "metadata": {},
   "outputs": [
    {
     "name": "stdout",
     "output_type": "stream",
     "text": [
      "X_train shape: (50000, 28, 28) y_train shape: (50000,)\n",
      "X_test shape: (10000, 28, 28) y_test shape: (10000,)\n"
     ]
    }
   ],
   "source": [
    " #Print train data and test data shape\n",
    "print(\"X_train shape:\", X_train.shape, \"y_train shape:\", y_train.shape)\n",
    "print(\"X_test shape:\", X_test.shape, \"y_test shape:\", y_test.shape)"
   ]
  },
  {
   "cell_type": "markdown",
   "metadata": {},
   "source": [
    "\n",
    "The pixel values for the images lie between 0 to 255 now, which is a large range.\n",
    "Let us normalize these values to a range from 0 to 1. To do this, we can simply divide each pixel value with 255.We  normalize the data dimensions so that they are of approximately the same scale. it is best practices for training a Neural Network  to normalize  data to obtain a mean close to 0. Normalizing the data generally speeds up learning and leads to faster convergence."
   ]
  },
  {
   "cell_type": "markdown",
   "metadata": {},
   "source": [
    "# Reshape the input data to a 2D for MLP(Multi Layer perceptron) and tensor(4d) for CNN(Convolution Neural Network)\n",
    "Reshape the input data to a 2D for MLP(Multi Layer perceptron)"
   ]
  },
  {
   "cell_type": "code",
   "execution_count": 12,
   "metadata": {},
   "outputs": [
    {
     "data": {
      "text/plain": [
       "(50000, 28, 28)"
      ]
     },
     "execution_count": 12,
     "metadata": {},
     "output_type": "execute_result"
    }
   ],
   "source": [
    "X_train.shape"
   ]
  },
  {
   "cell_type": "code",
   "execution_count": 13,
   "metadata": {},
   "outputs": [
    {
     "data": {
      "text/plain": [
       "3"
      ]
     },
     "execution_count": 13,
     "metadata": {},
     "output_type": "execute_result"
    }
   ],
   "source": [
    "X_train.ndim"
   ]
  },
  {
   "cell_type": "code",
   "execution_count": 14,
   "metadata": {},
   "outputs": [
    {
     "data": {
      "text/plain": [
       "2"
      ]
     },
     "execution_count": 14,
     "metadata": {},
     "output_type": "execute_result"
    }
   ],
   "source": [
    "# Reshape to 28 x 28 pixels = 784 features\n",
    "feature_vector_length = 784\n",
    "X_train = X_train.reshape(X_train.shape[0], feature_vector_length)\n",
    "X_test = X_test.reshape(X_test.shape[0], feature_vector_length)\n",
    "X_train.ndim"
   ]
  },
  {
   "cell_type": "code",
   "execution_count": 15,
   "metadata": {},
   "outputs": [],
   "source": [
    " #Convert into greyscale\n",
    "X_train = X_train.astype('float32')\n",
    "X_test = X_test.astype('float32')\n",
    "X_train /= 255\n",
    "X_test /= 255\n",
    "\n",
    "\n",
    "# Convert target classes to categorical ones\n",
    "y_train = to_categorical(y_train, 10)\n",
    "y_test = to_categorical(y_test, 10)"
   ]
  },
  {
   "cell_type": "code",
   "execution_count": 16,
   "metadata": {},
   "outputs": [
    {
     "name": "stdout",
     "output_type": "stream",
     "text": [
      "Feature shape: (784,)\n"
     ]
    }
   ],
   "source": [
    "# Set the input shape\n",
    "input_shape = (feature_vector_length,)\n",
    "print(f'Feature shape: {input_shape}')"
   ]
  },
  {
   "cell_type": "markdown",
   "metadata": {},
   "source": [
    "# 5. Neural Network Multi-Layer Perceptron Classifier model"
   ]
  },
  {
   "cell_type": "code",
   "execution_count": 17,
   "metadata": {},
   "outputs": [],
   "source": [
    "#Neural Network Multi-Layer Perceptron Classifier mode\n",
    "model = keras.models.Sequential()\n",
    "model.add(Dense(350, input_shape=input_shape, activation='relu'))\n",
    "model.add(Dense(100, activation='relu'))\n",
    "model.add(Dense(10, activation='softmax'))\n"
   ]
  },
  {
   "cell_type": "code",
   "execution_count": 18,
   "metadata": {},
   "outputs": [
    {
     "name": "stdout",
     "output_type": "stream",
     "text": [
      "Model: \"sequential\"\n",
      "_________________________________________________________________\n",
      "Layer (type)                 Output Shape              Param #   \n",
      "=================================================================\n",
      "dense (Dense)                (None, 350)               274750    \n",
      "_________________________________________________________________\n",
      "dense_1 (Dense)              (None, 100)               35100     \n",
      "_________________________________________________________________\n",
      "dense_2 (Dense)              (None, 10)                1010      \n",
      "=================================================================\n",
      "Total params: 310,860\n",
      "Trainable params: 310,860\n",
      "Non-trainable params: 0\n",
      "_________________________________________________________________\n"
     ]
    }
   ],
   "source": [
    "model.summary()"
   ]
  },
  {
   "cell_type": "code",
   "execution_count": 19,
   "metadata": {},
   "outputs": [
    {
     "name": "stdout",
     "output_type": "stream",
     "text": [
      "Epoch 1/50\n",
      "267/267 [==============================] - 2s 7ms/step - loss: 1.2793 - accuracy: 0.5753 - val_loss: 0.7797 - val_accuracy: 0.7226\n",
      "Epoch 2/50\n",
      "267/267 [==============================] - 2s 6ms/step - loss: 0.6871 - accuracy: 0.7494 - val_loss: 0.6398 - val_accuracy: 0.7610\n",
      "Epoch 3/50\n",
      "267/267 [==============================] - 2s 6ms/step - loss: 0.5932 - accuracy: 0.7850 - val_loss: 0.5799 - val_accuracy: 0.7924\n",
      "Epoch 4/50\n",
      "267/267 [==============================] - 2s 6ms/step - loss: 0.5511 - accuracy: 0.8025 - val_loss: 0.5429 - val_accuracy: 0.8054\n",
      "Epoch 5/50\n",
      "267/267 [==============================] - 2s 6ms/step - loss: 0.5209 - accuracy: 0.8138 - val_loss: 0.5202 - val_accuracy: 0.8125\n",
      "Epoch 6/50\n",
      "267/267 [==============================] - 2s 7ms/step - loss: 0.4975 - accuracy: 0.8230 - val_loss: 0.5013 - val_accuracy: 0.8209\n",
      "Epoch 7/50\n",
      "267/267 [==============================] - 2s 6ms/step - loss: 0.4786 - accuracy: 0.8305 - val_loss: 0.4890 - val_accuracy: 0.8247\n",
      "Epoch 8/50\n",
      "267/267 [==============================] - 2s 6ms/step - loss: 0.4644 - accuracy: 0.8340 - val_loss: 0.4750 - val_accuracy: 0.8300\n",
      "Epoch 9/50\n",
      "267/267 [==============================] - 2s 6ms/step - loss: 0.4515 - accuracy: 0.8403 - val_loss: 0.4788 - val_accuracy: 0.8230\n",
      "Epoch 10/50\n",
      "267/267 [==============================] - 2s 6ms/step - loss: 0.4406 - accuracy: 0.8453 - val_loss: 0.4500 - val_accuracy: 0.8347\n",
      "Epoch 11/50\n",
      "267/267 [==============================] - 2s 6ms/step - loss: 0.4301 - accuracy: 0.8478 - val_loss: 0.4461 - val_accuracy: 0.8411\n",
      "Epoch 12/50\n",
      "267/267 [==============================] - 2s 6ms/step - loss: 0.4211 - accuracy: 0.8527 - val_loss: 0.4399 - val_accuracy: 0.8416\n",
      "Epoch 13/50\n",
      "267/267 [==============================] - 2s 6ms/step - loss: 0.4127 - accuracy: 0.8538 - val_loss: 0.4266 - val_accuracy: 0.8467\n",
      "Epoch 14/50\n",
      "267/267 [==============================] - 2s 6ms/step - loss: 0.4070 - accuracy: 0.8557 - val_loss: 0.4213 - val_accuracy: 0.8494\n",
      "Epoch 15/50\n",
      "267/267 [==============================] - 2s 6ms/step - loss: 0.3984 - accuracy: 0.8594 - val_loss: 0.4173 - val_accuracy: 0.8504\n",
      "Epoch 16/50\n",
      "267/267 [==============================] - 2s 6ms/step - loss: 0.3941 - accuracy: 0.8605 - val_loss: 0.4149 - val_accuracy: 0.8511\n",
      "Epoch 17/50\n",
      "267/267 [==============================] - 2s 6ms/step - loss: 0.3889 - accuracy: 0.8615 - val_loss: 0.4065 - val_accuracy: 0.8538\n",
      "Epoch 18/50\n",
      "267/267 [==============================] - 2s 6ms/step - loss: 0.3821 - accuracy: 0.8637 - val_loss: 0.4025 - val_accuracy: 0.8560\n",
      "Epoch 19/50\n",
      "267/267 [==============================] - 2s 6ms/step - loss: 0.3781 - accuracy: 0.8656 - val_loss: 0.4041 - val_accuracy: 0.8551\n",
      "Epoch 20/50\n",
      "267/267 [==============================] - 2s 6ms/step - loss: 0.3740 - accuracy: 0.8668 - val_loss: 0.3954 - val_accuracy: 0.8570\n",
      "Epoch 21/50\n",
      "267/267 [==============================] - 2s 6ms/step - loss: 0.3672 - accuracy: 0.8681 - val_loss: 0.3975 - val_accuracy: 0.8603\n",
      "Epoch 22/50\n",
      "267/267 [==============================] - 2s 6ms/step - loss: 0.3636 - accuracy: 0.8698 - val_loss: 0.3887 - val_accuracy: 0.8614\n",
      "Epoch 23/50\n",
      "267/267 [==============================] - 2s 6ms/step - loss: 0.3589 - accuracy: 0.8715 - val_loss: 0.3934 - val_accuracy: 0.8591\n",
      "Epoch 24/50\n",
      "267/267 [==============================] - 2s 6ms/step - loss: 0.3550 - accuracy: 0.8726 - val_loss: 0.3845 - val_accuracy: 0.8620\n",
      "Epoch 25/50\n",
      "267/267 [==============================] - 2s 6ms/step - loss: 0.3516 - accuracy: 0.8727 - val_loss: 0.3815 - val_accuracy: 0.8630\n",
      "Epoch 26/50\n",
      "267/267 [==============================] - 2s 6ms/step - loss: 0.3475 - accuracy: 0.8762 - val_loss: 0.3789 - val_accuracy: 0.8650\n",
      "Epoch 27/50\n",
      "267/267 [==============================] - 2s 6ms/step - loss: 0.3437 - accuracy: 0.8766 - val_loss: 0.3765 - val_accuracy: 0.8640\n",
      "Epoch 28/50\n",
      "267/267 [==============================] - 2s 6ms/step - loss: 0.3401 - accuracy: 0.8777 - val_loss: 0.3770 - val_accuracy: 0.8661\n",
      "Epoch 29/50\n",
      "267/267 [==============================] - 2s 6ms/step - loss: 0.3370 - accuracy: 0.8783 - val_loss: 0.3674 - val_accuracy: 0.8701\n",
      "Epoch 30/50\n",
      "267/267 [==============================] - 2s 6ms/step - loss: 0.3323 - accuracy: 0.8798 - val_loss: 0.3660 - val_accuracy: 0.8692\n",
      "Epoch 31/50\n",
      "267/267 [==============================] - 2s 6ms/step - loss: 0.3276 - accuracy: 0.8817 - val_loss: 0.3707 - val_accuracy: 0.8681\n",
      "Epoch 32/50\n",
      "267/267 [==============================] - 2s 6ms/step - loss: 0.3261 - accuracy: 0.8826 - val_loss: 0.3660 - val_accuracy: 0.8682\n",
      "Epoch 33/50\n",
      "267/267 [==============================] - 2s 6ms/step - loss: 0.3229 - accuracy: 0.8835 - val_loss: 0.3629 - val_accuracy: 0.8712\n",
      "Epoch 34/50\n",
      "267/267 [==============================] - 2s 6ms/step - loss: 0.3219 - accuracy: 0.8833 - val_loss: 0.3675 - val_accuracy: 0.8662\n",
      "Epoch 35/50\n",
      "267/267 [==============================] - 2s 6ms/step - loss: 0.3137 - accuracy: 0.8873 - val_loss: 0.3573 - val_accuracy: 0.8734\n",
      "Epoch 36/50\n",
      "267/267 [==============================] - 2s 6ms/step - loss: 0.3111 - accuracy: 0.8884 - val_loss: 0.3584 - val_accuracy: 0.8708\n",
      "Epoch 37/50\n",
      "267/267 [==============================] - 2s 6ms/step - loss: 0.3109 - accuracy: 0.8866 - val_loss: 0.3597 - val_accuracy: 0.8685\n",
      "Epoch 38/50\n",
      "267/267 [==============================] - 2s 6ms/step - loss: 0.3056 - accuracy: 0.8900 - val_loss: 0.3540 - val_accuracy: 0.8749\n",
      "Epoch 39/50\n",
      "267/267 [==============================] - 2s 6ms/step - loss: 0.3039 - accuracy: 0.8891 - val_loss: 0.3577 - val_accuracy: 0.8717\n",
      "Epoch 40/50\n",
      "267/267 [==============================] - 2s 6ms/step - loss: 0.3030 - accuracy: 0.8895 - val_loss: 0.3589 - val_accuracy: 0.8707\n",
      "Epoch 41/50\n",
      "267/267 [==============================] - 2s 6ms/step - loss: 0.2978 - accuracy: 0.8927 - val_loss: 0.3547 - val_accuracy: 0.8723\n",
      "Epoch 42/50\n",
      "267/267 [==============================] - 2s 6ms/step - loss: 0.2937 - accuracy: 0.8948 - val_loss: 0.3473 - val_accuracy: 0.8754\n",
      "Epoch 43/50\n",
      "267/267 [==============================] - 2s 6ms/step - loss: 0.2921 - accuracy: 0.8946 - val_loss: 0.3494 - val_accuracy: 0.8738\n",
      "Epoch 44/50\n",
      "267/267 [==============================] - 2s 6ms/step - loss: 0.2894 - accuracy: 0.8951 - val_loss: 0.3468 - val_accuracy: 0.8761\n",
      "Epoch 45/50\n",
      "267/267 [==============================] - 2s 6ms/step - loss: 0.2858 - accuracy: 0.8968 - val_loss: 0.3512 - val_accuracy: 0.8743\n",
      "Epoch 46/50\n",
      "267/267 [==============================] - 2s 6ms/step - loss: 0.2842 - accuracy: 0.8971 - val_loss: 0.3476 - val_accuracy: 0.8757\n",
      "Epoch 47/50\n",
      "267/267 [==============================] - 2s 6ms/step - loss: 0.2820 - accuracy: 0.8978 - val_loss: 0.3524 - val_accuracy: 0.8753\n",
      "Epoch 48/50\n",
      "267/267 [==============================] - 2s 6ms/step - loss: 0.2792 - accuracy: 0.8993 - val_loss: 0.3427 - val_accuracy: 0.8765\n",
      "Epoch 49/50\n",
      "267/267 [==============================] - 2s 6ms/step - loss: 0.2752 - accuracy: 0.9004 - val_loss: 0.3393 - val_accuracy: 0.8782\n",
      "Epoch 50/50\n",
      "267/267 [==============================] - 2s 6ms/step - loss: 0.2733 - accuracy: 0.9003 - val_loss: 0.3451 - val_accuracy: 0.8768\n"
     ]
    }
   ],
   "source": [
    "# Configure the model and start training\n",
    "model.compile(loss='categorical_crossentropy', optimizer='adam', metrics=['accuracy'])\n",
    "history= model.fit(X_train, y_train, epochs=50, batch_size=150, verbose=1, validation_split=0.2)"
   ]
  },
  {
   "cell_type": "code",
   "execution_count": 20,
   "metadata": {},
   "outputs": [
    {
     "name": "stdout",
     "output_type": "stream",
     "text": [
      "313/313 [==============================] - 1s 3ms/step - loss: 64.7686 - accuracy: 0.7757\n",
      "Test results - Loss: 64.76862335205078 - Accuracy: 0.7756999731063843%\n"
     ]
    }
   ],
   "source": [
    "#Test the model after training\n",
    "test_results = model.evaluate(X_test, y_test, verbose=1)\n",
    "print(f'Test results - Loss: {test_results[0]} - Accuracy: {test_results[1]}%')"
   ]
  },
  {
   "cell_type": "code",
   "execution_count": 21,
   "metadata": {},
   "outputs": [
    {
     "name": "stdout",
     "output_type": "stream",
     "text": [
      "F1 score: 0.7707403223159682\n",
      "Accuracy score: 0.7757\n"
     ]
    }
   ],
   "source": [
    "from sklearn import metrics\n",
    "model_pred = model.predict(X_test)\n",
    "model_pred = np.argmax(model_pred,axis=1)\n",
    "y_true = np.argmax(y_test,axis=1)\n",
    "\n",
    "model_f1 = metrics.f1_score(y_true,  model_pred,average= \"weighted\")\n",
    "model_accuracy = metrics.accuracy_score(y_true, model_pred)\n",
    "print(\"F1 score: {}\".format(model_f1))\n",
    "print(\"Accuracy score: {}\".format(model_accuracy))"
   ]
  },
  {
   "cell_type": "code",
   "execution_count": 22,
   "metadata": {},
   "outputs": [
    {
     "data": {
      "image/png": "[encoded data removed]",
      "text/plain": [
       "<Figure size 576x360 with 1 Axes>"
      ]
     },
     "metadata": {
      "needs_background": "light"
     },
     "output_type": "display_data"
    }
   ],
   "source": [
    "import pandas as pd\n",
    "import matplotlib.pyplot as plt\n",
    "pd.DataFrame(history.history).plot(figsize=(8, 5))\n",
    "plt.grid(True)\n",
    "plt.gca().set_ylim(0, 1) # set the vertical range to [0-1]\n",
    "plt.show()"
   ]
  },
  {
   "cell_type": "markdown",
   "metadata": {},
   "source": [
    "# 6 Experiment with the architecture of the MLP classfier"
   ]
  },
  {
   "cell_type": "code",
   "execution_count": 23,
   "metadata": {},
   "outputs": [],
   "source": [
    "model2 = keras.models.Sequential()\n",
    "model2.add(Dense(500, input_shape=input_shape, activation='relu'))\n",
    "model2.add(Dense(150, activation='relu'))\n",
    "model2.add(Dense(10, activation='softmax'))"
   ]
  },
  {
   "cell_type": "code",
   "execution_count": 24,
   "metadata": {},
   "outputs": [
    {
     "name": "stdout",
     "output_type": "stream",
     "text": [
      "Model: \"sequential_1\"\n",
      "_________________________________________________________________\n",
      "Layer (type)                 Output Shape              Param #   \n",
      "=================================================================\n",
      "dense_3 (Dense)              (None, 500)               392500    \n",
      "_________________________________________________________________\n",
      "dense_4 (Dense)              (None, 150)               75150     \n",
      "_________________________________________________________________\n",
      "dense_5 (Dense)              (None, 10)                1510      \n",
      "=================================================================\n",
      "Total params: 469,160\n",
      "Trainable params: 469,160\n",
      "Non-trainable params: 0\n",
      "_________________________________________________________________\n"
     ]
    }
   ],
   "source": [
    "model2.summary()"
   ]
  },
  {
   "cell_type": "code",
   "execution_count": 25,
   "metadata": {},
   "outputs": [],
   "source": [
    "\n",
    "model2.compile(loss='categorical_crossentropy', optimizer='adam', metrics=['accuracy'])"
   ]
  },
  {
   "cell_type": "code",
   "execution_count": 26,
   "metadata": {},
   "outputs": [
    {
     "name": "stdout",
     "output_type": "stream",
     "text": [
      "Epoch 1/50\n",
      "160/160 [==============================] - 2s 10ms/step - loss: 1.3920 - accuracy: 0.5657 - val_loss: 0.8284 - val_accuracy: 0.7180\n",
      "Epoch 2/50\n",
      "160/160 [==============================] - 2s 10ms/step - loss: 0.7124 - accuracy: 0.7405 - val_loss: 0.6465 - val_accuracy: 0.7639\n",
      "Epoch 3/50\n",
      "160/160 [==============================] - 2s 10ms/step - loss: 0.6100 - accuracy: 0.7762 - val_loss: 0.5839 - val_accuracy: 0.7845\n",
      "Epoch 4/50\n",
      "160/160 [==============================] - 2s 10ms/step - loss: 0.5646 - accuracy: 0.7948 - val_loss: 0.5502 - val_accuracy: 0.8007\n",
      "Epoch 5/50\n",
      "160/160 [==============================] - 2s 10ms/step - loss: 0.5299 - accuracy: 0.8079 - val_loss: 0.5221 - val_accuracy: 0.8129\n",
      "Epoch 6/50\n",
      "160/160 [==============================] - 2s 10ms/step - loss: 0.4996 - accuracy: 0.8217 - val_loss: 0.4961 - val_accuracy: 0.8222\n",
      "Epoch 7/50\n",
      "160/160 [==============================] - 2s 10ms/step - loss: 0.4777 - accuracy: 0.8314 - val_loss: 0.4745 - val_accuracy: 0.8295\n",
      "Epoch 8/50\n",
      "160/160 [==============================] - 2s 10ms/step - loss: 0.4616 - accuracy: 0.8343 - val_loss: 0.4636 - val_accuracy: 0.8317\n",
      "Epoch 9/50\n",
      "160/160 [==============================] - 2s 10ms/step - loss: 0.4457 - accuracy: 0.8415 - val_loss: 0.4484 - val_accuracy: 0.8350\n",
      "Epoch 10/50\n",
      "160/160 [==============================] - 2s 10ms/step - loss: 0.4342 - accuracy: 0.8451 - val_loss: 0.4486 - val_accuracy: 0.8351\n",
      "Epoch 11/50\n",
      "160/160 [==============================] - 2s 10ms/step - loss: 0.4250 - accuracy: 0.8488 - val_loss: 0.4444 - val_accuracy: 0.8375\n",
      "Epoch 12/50\n",
      "160/160 [==============================] - 2s 10ms/step - loss: 0.4162 - accuracy: 0.8519 - val_loss: 0.4260 - val_accuracy: 0.8441\n",
      "Epoch 13/50\n",
      "160/160 [==============================] - 2s 10ms/step - loss: 0.4105 - accuracy: 0.8532 - val_loss: 0.4389 - val_accuracy: 0.8379\n",
      "Epoch 14/50\n",
      "160/160 [==============================] - 2s 10ms/step - loss: 0.3993 - accuracy: 0.8575 - val_loss: 0.4162 - val_accuracy: 0.8508\n",
      "Epoch 15/50\n",
      "160/160 [==============================] - 2s 10ms/step - loss: 0.3945 - accuracy: 0.8594 - val_loss: 0.4104 - val_accuracy: 0.8490\n",
      "Epoch 16/50\n",
      "160/160 [==============================] - 2s 10ms/step - loss: 0.3885 - accuracy: 0.8613 - val_loss: 0.4030 - val_accuracy: 0.8535\n",
      "Epoch 17/50\n",
      "160/160 [==============================] - 2s 10ms/step - loss: 0.3816 - accuracy: 0.8632 - val_loss: 0.3978 - val_accuracy: 0.8566\n",
      "Epoch 18/50\n",
      "160/160 [==============================] - 2s 10ms/step - loss: 0.3762 - accuracy: 0.8653 - val_loss: 0.4033 - val_accuracy: 0.8534\n",
      "Epoch 19/50\n",
      "160/160 [==============================] - 2s 10ms/step - loss: 0.3720 - accuracy: 0.8666 - val_loss: 0.3960 - val_accuracy: 0.8566\n",
      "Epoch 20/50\n",
      "160/160 [==============================] - 2s 10ms/step - loss: 0.3663 - accuracy: 0.8682 - val_loss: 0.3872 - val_accuracy: 0.8616\n",
      "Epoch 21/50\n",
      "160/160 [==============================] - 2s 10ms/step - loss: 0.3614 - accuracy: 0.8702 - val_loss: 0.3817 - val_accuracy: 0.8623\n",
      "Epoch 22/50\n",
      "160/160 [==============================] - 2s 10ms/step - loss: 0.3571 - accuracy: 0.8716 - val_loss: 0.3789 - val_accuracy: 0.8644\n",
      "Epoch 23/50\n",
      "160/160 [==============================] - 2s 10ms/step - loss: 0.3542 - accuracy: 0.8725 - val_loss: 0.3826 - val_accuracy: 0.8653\n",
      "Epoch 24/50\n",
      "160/160 [==============================] - 2s 10ms/step - loss: 0.3486 - accuracy: 0.8753 - val_loss: 0.3757 - val_accuracy: 0.8654\n",
      "Epoch 25/50\n",
      "160/160 [==============================] - 2s 10ms/step - loss: 0.3456 - accuracy: 0.8759 - val_loss: 0.3734 - val_accuracy: 0.8660\n",
      "Epoch 26/50\n",
      "160/160 [==============================] - 2s 10ms/step - loss: 0.3401 - accuracy: 0.8773 - val_loss: 0.3690 - val_accuracy: 0.8666\n",
      "Epoch 27/50\n",
      "160/160 [==============================] - 2s 10ms/step - loss: 0.3373 - accuracy: 0.8770 - val_loss: 0.3705 - val_accuracy: 0.8654\n",
      "Epoch 28/50\n",
      "160/160 [==============================] - 2s 10ms/step - loss: 0.3343 - accuracy: 0.8797 - val_loss: 0.3668 - val_accuracy: 0.8685\n",
      "Epoch 29/50\n",
      "160/160 [==============================] - 2s 10ms/step - loss: 0.3293 - accuracy: 0.8808 - val_loss: 0.3629 - val_accuracy: 0.8702\n",
      "Epoch 30/50\n",
      "160/160 [==============================] - 2s 10ms/step - loss: 0.3259 - accuracy: 0.8833 - val_loss: 0.3671 - val_accuracy: 0.8672\n",
      "Epoch 31/50\n",
      "160/160 [==============================] - 2s 10ms/step - loss: 0.3255 - accuracy: 0.8824 - val_loss: 0.3726 - val_accuracy: 0.8680\n",
      "Epoch 32/50\n",
      "160/160 [==============================] - 2s 10ms/step - loss: 0.3191 - accuracy: 0.8856 - val_loss: 0.3623 - val_accuracy: 0.8707\n",
      "Epoch 33/50\n",
      "160/160 [==============================] - 2s 10ms/step - loss: 0.3167 - accuracy: 0.8855 - val_loss: 0.3663 - val_accuracy: 0.8656\n",
      "Epoch 34/50\n",
      "160/160 [==============================] - 2s 10ms/step - loss: 0.3135 - accuracy: 0.8865 - val_loss: 0.3555 - val_accuracy: 0.8717\n",
      "Epoch 35/50\n",
      "160/160 [==============================] - 2s 10ms/step - loss: 0.3086 - accuracy: 0.8885 - val_loss: 0.3549 - val_accuracy: 0.8719\n",
      "Epoch 36/50\n",
      "160/160 [==============================] - 2s 10ms/step - loss: 0.3072 - accuracy: 0.8892 - val_loss: 0.3545 - val_accuracy: 0.8732\n",
      "Epoch 37/50\n",
      "160/160 [==============================] - 2s 10ms/step - loss: 0.3028 - accuracy: 0.8906 - val_loss: 0.3583 - val_accuracy: 0.8710\n",
      "Epoch 38/50\n",
      "160/160 [==============================] - 2s 10ms/step - loss: 0.3019 - accuracy: 0.8906 - val_loss: 0.3522 - val_accuracy: 0.8730\n",
      "Epoch 39/50\n",
      "160/160 [==============================] - 2s 10ms/step - loss: 0.2980 - accuracy: 0.8911 - val_loss: 0.3473 - val_accuracy: 0.8776\n",
      "Epoch 40/50\n",
      "160/160 [==============================] - 2s 10ms/step - loss: 0.2964 - accuracy: 0.8930 - val_loss: 0.3513 - val_accuracy: 0.8742\n",
      "Epoch 41/50\n",
      "160/160 [==============================] - 2s 10ms/step - loss: 0.2944 - accuracy: 0.8930 - val_loss: 0.3440 - val_accuracy: 0.8754\n",
      "Epoch 42/50\n",
      "160/160 [==============================] - 2s 10ms/step - loss: 0.2924 - accuracy: 0.8932 - val_loss: 0.3459 - val_accuracy: 0.8759\n",
      "Epoch 43/50\n",
      "160/160 [==============================] - 2s 10ms/step - loss: 0.2880 - accuracy: 0.8952 - val_loss: 0.3467 - val_accuracy: 0.8765\n",
      "Epoch 44/50\n",
      "160/160 [==============================] - 2s 10ms/step - loss: 0.2857 - accuracy: 0.8963 - val_loss: 0.3429 - val_accuracy: 0.8793\n",
      "Epoch 45/50\n",
      "160/160 [==============================] - 2s 10ms/step - loss: 0.2825 - accuracy: 0.8973 - val_loss: 0.3418 - val_accuracy: 0.8773\n",
      "Epoch 46/50\n",
      "160/160 [==============================] - 2s 10ms/step - loss: 0.2796 - accuracy: 0.8981 - val_loss: 0.3370 - val_accuracy: 0.8786\n",
      "Epoch 47/50\n",
      "160/160 [==============================] - 2s 10ms/step - loss: 0.2782 - accuracy: 0.8977 - val_loss: 0.3498 - val_accuracy: 0.8733\n",
      "Epoch 48/50\n",
      "160/160 [==============================] - 2s 10ms/step - loss: 0.2770 - accuracy: 0.8992 - val_loss: 0.3342 - val_accuracy: 0.8795\n",
      "Epoch 49/50\n",
      "160/160 [==============================] - 2s 10ms/step - loss: 0.2741 - accuracy: 0.9000 - val_loss: 0.3339 - val_accuracy: 0.8783\n",
      "Epoch 50/50\n",
      "160/160 [==============================] - 2s 10ms/step - loss: 0.2712 - accuracy: 0.9014 - val_loss: 0.3418 - val_accuracy: 0.8782\n"
     ]
    }
   ],
   "source": [
    "\n",
    "history1 = model2.fit(X_train, y_train, epochs=50, batch_size=250, verbose=1, validation_split=0.2)"
   ]
  },
  {
   "cell_type": "code",
   "execution_count": 27,
   "metadata": {},
   "outputs": [
    {
     "name": "stdout",
     "output_type": "stream",
     "text": [
      "313/313 [==============================] - 1s 4ms/step - loss: 51.3713 - accuracy: 0.7895\n",
      "Test results - Loss: 51.371337890625 - Accuracy: 0.7894999980926514%\n"
     ]
    }
   ],
   "source": [
    "#Test the model after training\n",
    "test_results2 = model2.evaluate(X_test, y_test, verbose=1)\n",
    "print(f'Test results - Loss: {test_results2[0]} - Accuracy: {test_results2[1]}%')"
   ]
  },
  {
   "cell_type": "code",
   "execution_count": 30,
   "metadata": {},
   "outputs": [
    {
     "name": "stdout",
     "output_type": "stream",
     "text": [
      "F1 score: 0.7845313217491664\n",
      "Accuracy score: 0.7895\n"
     ]
    }
   ],
   "source": [
    "model2_pred = model2.predict(X_test)\n",
    "model2_pred = np.argmax(model2_pred,axis=1)\n",
    "y_true = np.argmax(y_test,axis=1)\n",
    "\n",
    "model2_f1 = metrics.f1_score(y_true,  model2_pred,average= \"weighted\")\n",
    "model2_accuracy = metrics.accuracy_score(y_true, model2_pred)\n",
    "print(\"F1 score: {}\".format(model2_f1))\n",
    "print(\"Accuracy score: {}\".format(model2_accuracy))"
   ]
  },
  {
   "cell_type": "code",
   "execution_count": 31,
   "metadata": {},
   "outputs": [
    {
     "data": {
      "image/png": "[encoded data removed]",
      "text/plain": [
       "<Figure size 576x360 with 1 Axes>"
      ]
     },
     "metadata": {
      "needs_background": "light"
     },
     "output_type": "display_data"
    }
   ],
   "source": [
    "import pandas as pd\n",
    "import matplotlib.pyplot as plt\n",
    "pd.DataFrame(history1.history).plot(figsize=(8, 5))\n",
    "plt.grid(True)\n",
    "plt.gca().set_ylim(0, 1) # set the vertical range to [0-1]\n",
    "plt.show()"
   ]
  },
  {
   "cell_type": "markdown",
   "metadata": {},
   "source": [
    "I alter number of layers from 350 and 100 to 500 and 150 in second model and batch size too been altered from 150 to 250 a got a \n",
    "slightly better accuraacy  77.57% to 78.95% and F1 score 77% to 78%  I will choose model second as it littel bbit better than first one."
   ]
  },
  {
   "cell_type": "markdown",
   "metadata": {},
   "source": [
    "# 7Building a basic sequential deep learning model(CNN) and comparing the accuracy with MLP Classifier"
   ]
  },
  {
   "cell_type": "code",
   "execution_count": 33,
   "metadata": {},
   "outputs": [],
   "source": [
    "fashion_mnist = keras.datasets.fashion_mnist\n",
    "(x_train_full,y_train_full ), (x_test, y_test) = fashion_mnist.load_data()"
   ]
  },
  {
   "cell_type": "markdown",
   "metadata": {},
   "source": [
    "# creating tensor(4d) for CNN(Convolution Neural Network)"
   ]
  },
  {
   "cell_type": "code",
   "execution_count": 34,
   "metadata": {},
   "outputs": [],
   "source": [
    "# Reshape the dimensions\n",
    "x_train = x_train_full.reshape(x_train_full.shape[0], 28, 28, 1)\n",
    "x_test = x_test.reshape(x_test.shape[0], 28, 28, 1)\n",
    "\n",
    "# Normalize the data\n",
    "x_train = x_train.astype('float32') / 255\n",
    "x_test = x_test.astype('float32') / 255\n",
    "\n",
    "# One-hot encode the labels\n",
    "y_train_full  = tf.keras.utils.to_categorical(y_train_full, 10)\n",
    "y_test = tf.keras.utils.to_categorical(y_test, 10)\n",
    "\n",
    "# Split training data into train / validation sets (10000 validation / keep remaining 50,000 for training)\n",
    "(x_train, x_valid) = x_train[10000:], x_train[:10000]\n",
    "(y_train_full , y_valid) = y_train_full[10000:], y_train_full[:10000]\n",
    "\n",
    "\n"
   ]
  },
  {
   "cell_type": "code",
   "execution_count": 35,
   "metadata": {},
   "outputs": [
    {
     "name": "stdout",
     "output_type": "stream",
     "text": [
      "x_train shape: (50000, 28, 28, 1) y_train shape: (50000, 10)\n",
      "x_test shape: (10000, 28, 28, 1) y_test shape: (10000, 10)\n"
     ]
    }
   ],
   "source": [
    "#Print train data and test data shape\n",
    "print(\"x_train shape:\", x_train.shape, \"y_train shape:\", y_train_full.shape)\n",
    "print(\"x_test shape:\", x_test.shape, \"y_test shape:\", y_test.shape)"
   ]
  },
  {
   "cell_type": "code",
   "execution_count": 36,
   "metadata": {},
   "outputs": [
    {
     "name": "stdout",
     "output_type": "stream",
     "text": [
      "Model: \"sequential_2\"\n",
      "_________________________________________________________________\n",
      "Layer (type)                 Output Shape              Param #   \n",
      "=================================================================\n",
      "conv2d (Conv2D)              (None, 28, 28, 64)        320       \n",
      "_________________________________________________________________\n",
      "max_pooling2d (MaxPooling2D) (None, 14, 14, 64)        0         \n",
      "_________________________________________________________________\n",
      "dropout (Dropout)            (None, 14, 14, 64)        0         \n",
      "_________________________________________________________________\n",
      "conv2d_1 (Conv2D)            (None, 14, 14, 32)        8224      \n",
      "_________________________________________________________________\n",
      "max_pooling2d_1 (MaxPooling2 (None, 7, 7, 32)          0         \n",
      "_________________________________________________________________\n",
      "dropout_1 (Dropout)          (None, 7, 7, 32)          0         \n",
      "_________________________________________________________________\n",
      "flatten (Flatten)            (None, 1568)              0         \n",
      "_________________________________________________________________\n",
      "dense_6 (Dense)              (None, 256)               401664    \n",
      "_________________________________________________________________\n",
      "dropout_2 (Dropout)          (None, 256)               0         \n",
      "_________________________________________________________________\n",
      "dense_7 (Dense)              (None, 10)                2570      \n",
      "=================================================================\n",
      "Total params: 412,778\n",
      "Trainable params: 412,778\n",
      "Non-trainable params: 0\n",
      "_________________________________________________________________\n"
     ]
    }
   ],
   "source": [
    "\n",
    "# Define the model\n",
    "model3 = Sequential()\n",
    "\n",
    "model3.add(Conv2D(filters=64, kernel_size=2, padding='same', activation='relu', input_shape=(28,28,1))) \n",
    "model3.add(MaxPooling2D(pool_size=2))\n",
    "model3.add(Dropout(0.3))\n",
    "\n",
    "model3.add(Conv2D(filters=32, kernel_size=2, padding='same', activation='relu'))\n",
    "model3.add(MaxPooling2D(pool_size=2))\n",
    "model3.add(Dropout(0.3))\n",
    "\n",
    "model3.add(Flatten())\n",
    "model3.add(Dense(256, activation='relu'))\n",
    "model3.add(Dropout(0.5))\n",
    "model3.add(Dense(10, activation='softmax'))\n",
    "\n",
    "# Print the model summary\n",
    "model3.summary()\n",
    "\n",
    "# Compile the model\n",
    "model3.compile(optimizer='adam', loss='categorical_crossentropy', metrics=['accuracy'])"
   ]
  },
  {
   "cell_type": "code",
   "execution_count": 37,
   "metadata": {},
   "outputs": [],
   "source": [
    "# initiate adam optimizer\n",
    "opt = keras.optimizers.Adam(lr=0.0001)\n",
    "\n",
    "# Let's train the model using RMSprop\n",
    "model3.compile(loss='categorical_crossentropy',\n",
    "              optimizer=opt,\n",
    "              metrics=['accuracy'])"
   ]
  },
  {
   "cell_type": "code",
   "execution_count": 38,
   "metadata": {},
   "outputs": [
    {
     "name": "stdout",
     "output_type": "stream",
     "text": [
      "Epoch 1/20\n",
      "1562/1563 [============================>.] - ETA: 0s - loss: 0.9526 - accuracy: 0.6465\n",
      "Epoch 00001: val_loss improved from inf to 0.59603, saving model to model_best_weights.hdf5\n",
      "1563/1563 [==============================] - 59s 38ms/step - loss: 0.9525 - accuracy: 0.6465 - val_loss: 0.5960 - val_accuracy: 0.7803\n",
      "Epoch 2/20\n",
      "1563/1563 [==============================] - ETA: 0s - loss: 0.6147 - accuracy: 0.7715\n",
      "Epoch 00002: val_loss improved from 0.59603 to 0.49042, saving model to model_best_weights.hdf5\n",
      "1563/1563 [==============================] - 59s 38ms/step - loss: 0.6147 - accuracy: 0.7715 - val_loss: 0.4904 - val_accuracy: 0.8232\n",
      "Epoch 3/20\n",
      "1563/1563 [==============================] - ETA: 0s - loss: 0.5366 - accuracy: 0.8013\n",
      "Epoch 00003: val_loss improved from 0.49042 to 0.44089, saving model to model_best_weights.hdf5\n",
      "1563/1563 [==============================] - 59s 38ms/step - loss: 0.5366 - accuracy: 0.8013 - val_loss: 0.4409 - val_accuracy: 0.8395\n",
      "Epoch 4/20\n",
      "1562/1563 [============================>.] - ETA: 0s - loss: 0.4969 - accuracy: 0.8181\n",
      "Epoch 00004: val_loss improved from 0.44089 to 0.41430, saving model to model_best_weights.hdf5\n",
      "1563/1563 [==============================] - 61s 39ms/step - loss: 0.4969 - accuracy: 0.8182 - val_loss: 0.4143 - val_accuracy: 0.8513\n",
      "Epoch 5/20\n",
      "1562/1563 [============================>.] - ETA: 0s - loss: 0.4679 - accuracy: 0.8283\n",
      "Epoch 00005: val_loss improved from 0.41430 to 0.39960, saving model to model_best_weights.hdf5\n",
      "1563/1563 [==============================] - 60s 39ms/step - loss: 0.4679 - accuracy: 0.8283 - val_loss: 0.3996 - val_accuracy: 0.8524\n",
      "Epoch 6/20\n",
      "1562/1563 [============================>.] - ETA: 0s - loss: 0.4478 - accuracy: 0.8369\n",
      "Epoch 00006: val_loss improved from 0.39960 to 0.37676, saving model to model_best_weights.hdf5\n",
      "1563/1563 [==============================] - 60s 38ms/step - loss: 0.4478 - accuracy: 0.8369 - val_loss: 0.3768 - val_accuracy: 0.8622\n",
      "Epoch 7/20\n",
      "1563/1563 [==============================] - ETA: 0s - loss: 0.4280 - accuracy: 0.8449\n",
      "Epoch 00007: val_loss improved from 0.37676 to 0.37588, saving model to model_best_weights.hdf5\n",
      "1563/1563 [==============================] - 60s 38ms/step - loss: 0.4280 - accuracy: 0.8449 - val_loss: 0.3759 - val_accuracy: 0.8628\n",
      "Epoch 8/20\n",
      "1563/1563 [==============================] - ETA: 0s - loss: 0.4146 - accuracy: 0.8484\n",
      "Epoch 00008: val_loss improved from 0.37588 to 0.35183, saving model to model_best_weights.hdf5\n",
      "1563/1563 [==============================] - 60s 38ms/step - loss: 0.4146 - accuracy: 0.8484 - val_loss: 0.3518 - val_accuracy: 0.8722\n",
      "Epoch 9/20\n",
      "1562/1563 [============================>.] - ETA: 0s - loss: 0.4006 - accuracy: 0.8529\n",
      "Epoch 00009: val_loss improved from 0.35183 to 0.33834, saving model to model_best_weights.hdf5\n",
      "1563/1563 [==============================] - 61s 39ms/step - loss: 0.4005 - accuracy: 0.8529 - val_loss: 0.3383 - val_accuracy: 0.8783\n",
      "Epoch 10/20\n",
      "1562/1563 [============================>.] - ETA: 0s - loss: 0.3911 - accuracy: 0.8576\n",
      "Epoch 00010: val_loss improved from 0.33834 to 0.33223, saving model to model_best_weights.hdf5\n",
      "1563/1563 [==============================] - 60s 39ms/step - loss: 0.3910 - accuracy: 0.8576 - val_loss: 0.3322 - val_accuracy: 0.8794\n",
      "Epoch 11/20\n",
      "1563/1563 [==============================] - ETA: 0s - loss: 0.3833 - accuracy: 0.8602\n",
      "Epoch 00011: val_loss improved from 0.33223 to 0.32572, saving model to model_best_weights.hdf5\n",
      "1563/1563 [==============================] - 60s 38ms/step - loss: 0.3833 - accuracy: 0.8602 - val_loss: 0.3257 - val_accuracy: 0.8838\n",
      "Epoch 12/20\n",
      "1563/1563 [==============================] - ETA: 0s - loss: 0.3722 - accuracy: 0.8647\n",
      "Epoch 00012: val_loss improved from 0.32572 to 0.31581, saving model to model_best_weights.hdf5\n",
      "1563/1563 [==============================] - 60s 38ms/step - loss: 0.3722 - accuracy: 0.8647 - val_loss: 0.3158 - val_accuracy: 0.8864\n",
      "Epoch 13/20\n",
      "1563/1563 [==============================] - ETA: 0s - loss: 0.3617 - accuracy: 0.8681\n",
      "Epoch 00013: val_loss improved from 0.31581 to 0.30559, saving model to model_best_weights.hdf5\n",
      "1563/1563 [==============================] - 60s 38ms/step - loss: 0.3617 - accuracy: 0.8681 - val_loss: 0.3056 - val_accuracy: 0.8901\n",
      "Epoch 14/20\n",
      "1563/1563 [==============================] - ETA: 0s - loss: 0.3533 - accuracy: 0.8724\n",
      "Epoch 00014: val_loss improved from 0.30559 to 0.30306, saving model to model_best_weights.hdf5\n",
      "1563/1563 [==============================] - 61s 39ms/step - loss: 0.3533 - accuracy: 0.8724 - val_loss: 0.3031 - val_accuracy: 0.8900\n",
      "Epoch 15/20\n",
      "1563/1563 [==============================] - ETA: 0s - loss: 0.3494 - accuracy: 0.8733\n",
      "Epoch 00015: val_loss improved from 0.30306 to 0.29601, saving model to model_best_weights.hdf5\n",
      "1563/1563 [==============================] - 61s 39ms/step - loss: 0.3494 - accuracy: 0.8733 - val_loss: 0.2960 - val_accuracy: 0.8928\n",
      "Epoch 16/20\n",
      "1563/1563 [==============================] - ETA: 0s - loss: 0.3430 - accuracy: 0.8748\n",
      "Epoch 00016: val_loss improved from 0.29601 to 0.29489, saving model to model_best_weights.hdf5\n",
      "1563/1563 [==============================] - 60s 39ms/step - loss: 0.3430 - accuracy: 0.8748 - val_loss: 0.2949 - val_accuracy: 0.8930\n",
      "Epoch 17/20\n",
      "1562/1563 [============================>.] - ETA: 0s - loss: 0.3346 - accuracy: 0.8775\n",
      "Epoch 00017: val_loss improved from 0.29489 to 0.28679, saving model to model_best_weights.hdf5\n",
      "1563/1563 [==============================] - 61s 39ms/step - loss: 0.3346 - accuracy: 0.8775 - val_loss: 0.2868 - val_accuracy: 0.8955\n",
      "Epoch 18/20\n",
      "1563/1563 [==============================] - ETA: 0s - loss: 0.3321 - accuracy: 0.8782\n",
      "Epoch 00018: val_loss improved from 0.28679 to 0.28473, saving model to model_best_weights.hdf5\n",
      "1563/1563 [==============================] - 60s 39ms/step - loss: 0.3321 - accuracy: 0.8782 - val_loss: 0.2847 - val_accuracy: 0.8965\n",
      "Epoch 19/20\n",
      "1563/1563 [==============================] - ETA: 0s - loss: 0.3276 - accuracy: 0.8812\n",
      "Epoch 00019: val_loss improved from 0.28473 to 0.27766, saving model to model_best_weights.hdf5\n",
      "1563/1563 [==============================] - 61s 39ms/step - loss: 0.3276 - accuracy: 0.8812 - val_loss: 0.2777 - val_accuracy: 0.8999\n",
      "Epoch 20/20\n",
      "1562/1563 [============================>.] - ETA: 0s - loss: 0.3206 - accuracy: 0.8838\n",
      "Epoch 00020: val_loss improved from 0.27766 to 0.27044, saving model to model_best_weights.hdf5\n",
      "1563/1563 [==============================] - 63s 40ms/step - loss: 0.3206 - accuracy: 0.8838 - val_loss: 0.2704 - val_accuracy: 0.9029\n"
     ]
    }
   ],
   "source": [
    "\n",
    "from keras.callbacks import ModelCheckpoint\n",
    "\n",
    "# Training of the model\n",
    "checkpointer = ModelCheckpoint(filepath='model_best_weights.hdf5', verbose = 1, save_best_only=True)\n",
    "history2 = model3.fit(x_train,\n",
    "         y_train_full,\n",
    "         batch_size=32,\n",
    "         epochs=20,\n",
    "         validation_data=(x_valid, y_valid),\n",
    "         callbacks=[checkpointer])\n",
    "\n",
    "\n",
    "\n",
    "\n",
    "\n",
    "\n"
   ]
  },
  {
   "cell_type": "code",
   "execution_count": 39,
   "metadata": {},
   "outputs": [
    {
     "data": {
      "text/plain": [
       "<matplotlib.legend.Legend at 0x2172621df08>"
      ]
     },
     "execution_count": 39,
     "metadata": {},
     "output_type": "execute_result"
    },
    {
     "data": {
      "image/png": "[encoded data removed]",
      "text/plain": [
       "<Figure size 1008x360 with 2 Axes>"
      ]
     },
     "metadata": {
      "needs_background": "light"
     },
     "output_type": "display_data"
    }
   ],
   "source": [
    "#import matplotlib.pyplot as plt\n",
    "%matplotlib inline\n",
    "fig, (ax1, ax2) = plt.subplots(nrows=1, ncols=2, figsize=(14, 5))\n",
    "ax1.plot(history2.history['loss'], label='Train Loss')\n",
    "ax1.plot(history2.history['val_loss'], label='Val Loss')\n",
    "ax1.legend()\n",
    "ax2.plot(history2.history['accuracy'], label='Train Accuracy')\n",
    "ax2.plot(history2.history['val_accuracy'], label='Val Accuracy')\n",
    "ax2.legend()"
   ]
  },
  {
   "cell_type": "code",
   "execution_count": 40,
   "metadata": {},
   "outputs": [
    {
     "name": "stdout",
     "output_type": "stream",
     "text": [
      "\n",
      " Test accuracy: 0.8950999975204468\n",
      "Test Loss : 0.2886\n"
     ]
    }
   ],
   "source": [
    " #Evaluate the model on test set\n",
    "score = model3.evaluate(x_test, y_test, verbose=0)\n",
    "\n",
    "# Print test accuracy\n",
    "print('\\n', 'Test accuracy:', score[1])\n",
    "print('Test Loss : {:.4f}'.format(score[0]))"
   ]
  },
  {
   "cell_type": "code",
   "execution_count": 41,
   "metadata": {},
   "outputs": [
    {
     "name": "stdout",
     "output_type": "stream",
     "text": [
      "F1 scoreM3: 0.8950243764115032\n",
      "Accuracy scoreM3: 0.8951\n"
     ]
    }
   ],
   "source": [
    "\n",
    "model3_pred = model3.predict(x_test)\n",
    "model3_pred = np.argmax(model3_pred,axis=1)\n",
    "y_true = np.argmax(y_test,axis=1)\n",
    "\n",
    "model3_f1 = metrics.f1_score(y_true,  model3_pred,average= \"weighted\")\n",
    "model3_accuracy = metrics.accuracy_score(y_true, model3_pred)\n",
    "print(\"F1 scoreM3: {}\".format(model3_f1))\n",
    "print(\"Accuracy scoreM3: {}\".format(model3_accuracy))"
   ]
  },
  {
   "cell_type": "markdown",
   "metadata": {},
   "source": [
    "# 8# Experiment with the architecture of CNN and report if you see any improvement in the accuracy"
   ]
  },
  {
   "cell_type": "code",
   "execution_count": 42,
   "metadata": {},
   "outputs": [
    {
     "name": "stdout",
     "output_type": "stream",
     "text": [
      "Model: \"sequential_3\"\n",
      "_________________________________________________________________\n",
      "Layer (type)                 Output Shape              Param #   \n",
      "=================================================================\n",
      "conv2d_2 (Conv2D)            (None, 28, 28, 32)        160       \n",
      "_________________________________________________________________\n",
      "max_pooling2d_2 (MaxPooling2 (None, 14, 14, 32)        0         \n",
      "_________________________________________________________________\n",
      "dropout_3 (Dropout)          (None, 14, 14, 32)        0         \n",
      "_________________________________________________________________\n",
      "conv2d_3 (Conv2D)            (None, 14, 14, 64)        8256      \n",
      "_________________________________________________________________\n",
      "max_pooling2d_3 (MaxPooling2 (None, 7, 7, 64)          0         \n",
      "_________________________________________________________________\n",
      "dropout_4 (Dropout)          (None, 7, 7, 64)          0         \n",
      "_________________________________________________________________\n",
      "flatten_1 (Flatten)          (None, 3136)              0         \n",
      "_________________________________________________________________\n",
      "dense_8 (Dense)              (None, 256)               803072    \n",
      "_________________________________________________________________\n",
      "dropout_5 (Dropout)          (None, 256)               0         \n",
      "_________________________________________________________________\n",
      "dense_9 (Dense)              (None, 10)                2570      \n",
      "=================================================================\n",
      "Total params: 814,058\n",
      "Trainable params: 814,058\n",
      "Non-trainable params: 0\n",
      "_________________________________________________________________\n"
     ]
    }
   ],
   "source": [
    "# Define the model\n",
    "model4 = Sequential()\n",
    "\n",
    "model4.add(Conv2D(filters=32, kernel_size=2, padding='same', activation='relu', input_shape=(28,28,1))) \n",
    "model4.add(MaxPooling2D(pool_size=2))\n",
    "model4.add(Dropout(0.2))\n",
    "\n",
    "model4.add(Conv2D(filters=64, kernel_size=2, padding='same', activation='relu'))\n",
    "model4.add(MaxPooling2D(pool_size=2))\n",
    "model4.add(Dropout(0.3))\n",
    "\n",
    "model4.add(Flatten())\n",
    "model4.add(Dense(256, activation='relu'))\n",
    "model4.add(Dropout(0.5))\n",
    "model4.add(Dense(10, activation='softmax'))\n",
    "\n",
    "# Print the model summary\n",
    "model4.summary()"
   ]
  },
  {
   "cell_type": "code",
   "execution_count": 43,
   "metadata": {},
   "outputs": [],
   "source": [
    "# Compile the model\n",
    "model4.compile(optimizer='adam', loss='categorical_crossentropy', metrics=['accuracy'])"
   ]
  },
  {
   "cell_type": "code",
   "execution_count": 44,
   "metadata": {},
   "outputs": [
    {
     "name": "stdout",
     "output_type": "stream",
     "text": [
      "Epoch 1/10\n",
      " 999/1000 [============================>.] - ETA: 0s - loss: 0.5560 - accuracy: 0.7964\n",
      "Epoch 00001: val_loss improved from inf to 0.36865, saving model to model_best_weights.hdf5\n",
      "1000/1000 [==============================] - 43s 43ms/step - loss: 0.5559 - accuracy: 0.7965 - val_loss: 0.3686 - val_accuracy: 0.8650\n",
      "Epoch 2/10\n",
      " 999/1000 [============================>.] - ETA: 0s - loss: 0.3892 - accuracy: 0.8609\n",
      "Epoch 00002: val_loss improved from 0.36865 to 0.30898, saving model to model_best_weights.hdf5\n",
      "1000/1000 [==============================] - 43s 43ms/step - loss: 0.3890 - accuracy: 0.8610 - val_loss: 0.3090 - val_accuracy: 0.8882\n",
      "Epoch 3/10\n",
      "1000/1000 [==============================] - ETA: 0s - loss: 0.3449 - accuracy: 0.8749\n",
      "Epoch 00003: val_loss improved from 0.30898 to 0.27539, saving model to model_best_weights.hdf5\n",
      "1000/1000 [==============================] - 44s 44ms/step - loss: 0.3449 - accuracy: 0.8749 - val_loss: 0.2754 - val_accuracy: 0.8991\n",
      "Epoch 4/10\n",
      "1000/1000 [==============================] - ETA: 0s - loss: 0.3196 - accuracy: 0.8834\n",
      "Epoch 00004: val_loss improved from 0.27539 to 0.25683, saving model to model_best_weights.hdf5\n",
      "1000/1000 [==============================] - 43s 43ms/step - loss: 0.3196 - accuracy: 0.8834 - val_loss: 0.2568 - val_accuracy: 0.9051\n",
      "Epoch 5/10\n",
      " 999/1000 [============================>.] - ETA: 0s - loss: 0.2953 - accuracy: 0.8921\n",
      "Epoch 00005: val_loss improved from 0.25683 to 0.25211, saving model to model_best_weights.hdf5\n",
      "1000/1000 [==============================] - 43s 43ms/step - loss: 0.2953 - accuracy: 0.8921 - val_loss: 0.2521 - val_accuracy: 0.9084\n",
      "Epoch 6/10\n",
      " 999/1000 [============================>.] - ETA: 0s - loss: 0.2795 - accuracy: 0.8961\n",
      "Epoch 00006: val_loss improved from 0.25211 to 0.24670, saving model to model_best_weights.hdf5\n",
      "1000/1000 [==============================] - 42s 42ms/step - loss: 0.2797 - accuracy: 0.8960 - val_loss: 0.2467 - val_accuracy: 0.9061\n",
      "Epoch 7/10\n",
      " 999/1000 [============================>.] - ETA: 0s - loss: 0.2661 - accuracy: 0.9030\n",
      "Epoch 00007: val_loss improved from 0.24670 to 0.22411, saving model to model_best_weights.hdf5\n",
      "1000/1000 [==============================] - 43s 43ms/step - loss: 0.2663 - accuracy: 0.9029 - val_loss: 0.2241 - val_accuracy: 0.9167\n",
      "Epoch 8/10\n",
      "1000/1000 [==============================] - ETA: 0s - loss: 0.2566 - accuracy: 0.9056\n",
      "Epoch 00008: val_loss improved from 0.22411 to 0.21688, saving model to model_best_weights.hdf5\n",
      "1000/1000 [==============================] - 43s 43ms/step - loss: 0.2566 - accuracy: 0.9056 - val_loss: 0.2169 - val_accuracy: 0.9198\n",
      "Epoch 9/10\n",
      " 999/1000 [============================>.] - ETA: 0s - loss: 0.2474 - accuracy: 0.9087\n",
      "Epoch 00009: val_loss did not improve from 0.21688\n",
      "1000/1000 [==============================] - 43s 43ms/step - loss: 0.2473 - accuracy: 0.9088 - val_loss: 0.2191 - val_accuracy: 0.9195\n",
      "Epoch 10/10\n",
      " 999/1000 [============================>.] - ETA: 0s - loss: 0.2372 - accuracy: 0.9113\n",
      "Epoch 00010: val_loss improved from 0.21688 to 0.21279, saving model to model_best_weights.hdf5\n",
      "1000/1000 [==============================] - 42s 42ms/step - loss: 0.2371 - accuracy: 0.9114 - val_loss: 0.2128 - val_accuracy: 0.9217\n"
     ]
    }
   ],
   "source": [
    "from keras.callbacks import ModelCheckpoint\n",
    "\n",
    "# Training of the model\n",
    "checkpointer = ModelCheckpoint(filepath='model_best_weights.hdf5', verbose = 1, save_best_only=True)\n",
    "history3 = model4.fit(x_train,\n",
    "         y_train_full,\n",
    "         batch_size=50,\n",
    "         epochs=10,\n",
    "         validation_data=(x_valid, y_valid),\n",
    "         callbacks=[checkpointer])"
   ]
  },
  {
   "cell_type": "code",
   "execution_count": 45,
   "metadata": {},
   "outputs": [
    {
     "name": "stdout",
     "output_type": "stream",
     "text": [
      "Test Loss : 0.2306\n",
      "Test Accuracy : 0.9167\n"
     ]
    }
   ],
   "source": [
    "score = model4.evaluate(x_test,y_test,verbose=0)\n",
    "print('Test Loss : {:.4f}'.format(score[0]))\n",
    "print('Test Accuracy : {:.4f}'.format(score[1]))"
   ]
  },
  {
   "cell_type": "markdown",
   "metadata": {},
   "source": [
    "In the second model  i changed filter configuration from 64 and 32 to 32 and 64  in first and second layer.drouout \n",
    "value changed for first layer from .3 to .2 and batch size increased 32 to 50 and no of epoch reduced from 20 to 10 as it very expensive model in\n",
    "term of time and speed. i got improved accuracy of 89 % to 91 % which is quite good. so i will choosemodel 4 over model 3 with better evalution matrices."
   ]
  },
  {
   "cell_type": "markdown",
   "metadata": {},
   "source": [
    "# 9Evaluate MLPClassifier and CNN using F1 score values and accuracy(only for the best model)"
   ]
  },
  {
   "cell_type": "code",
   "execution_count": 46,
   "metadata": {},
   "outputs": [
    {
     "name": "stdout",
     "output_type": "stream",
     "text": [
      "F1 scoreM4: 0.9167511455217411\n",
      "Accuracy scoreM4: 0.9167\n"
     ]
    }
   ],
   "source": [
    "\n",
    "\n",
    "model4_pred = model4.predict(x_test)\n",
    "model4_pred = np.argmax(model4_pred,axis=1)\n",
    "y_true = np.argmax(y_test,axis=1)\n",
    "\n",
    "model4_f1 = metrics.f1_score(y_true,  model4_pred,average= \"weighted\")\n",
    "model4_accuracy = metrics.accuracy_score(y_true, model4_pred)\n",
    "print(\"F1 scoreM4: {}\".format(model4_f1))\n",
    "print(\"Accuracy scoreM4: {}\".format(model4_accuracy))"
   ]
  },
  {
   "cell_type": "markdown",
   "metadata": {},
   "source": [
    "In MLP best model was second model which has accuracy  Loss: 51.371337890625% ,F1 score: 0.7845313217491664\n",
    "Accuracy score: 0.7895\n",
    "    where as in CNN model second model has better F1 scoreM4: 0.9167511455217411\n",
    "Accuracy scoreM4: 0.9167 . i will choose CNN second model over all the model build because of better f1 score and accuracy . all our model do not show any sign \n",
    "    of over fitting as we can se from test accuracy score and  learning plot wher they show continuous improvement and less loss.\n",
    "    \n",
    "    though CNN model produced more accurate  and precise result  but its takes more time and  better speed to run such model."
   ]
  },
  {
   "cell_type": "markdown",
   "metadata": {},
   "source": [
    "# 10Explain the paramters to tune to reduce the risk of overfitting in deep learning models"
   ]
  },
  {
   "cell_type": "markdown",
   "metadata": {},
   "source": [
    "\n",
    "\n",
    "Overfitting: performing well on training data set but poor on test data or unseen data called over fitting.\n",
    "\n",
    "Reduce overfitting by changing the complexity of the network\n",
    "\n",
    "Train with more data\n",
    "Reduce overfitting by training the network on more examples.\n",
    "It will not work every time, but training with more data can help algorithms detect the signal better\n",
    "\n",
    "remove features\n",
    "Some algorithms have built-in feature selection. For those that don’t, you can manually improve their generalizability by removing irrelevant input features.\n",
    "\n",
    "Early stopping\n",
    "When you are training a learning algorithm iteratively, you can measure how well each iteration of the model performs.\n",
    "Up until a certain number of iterations, new iterations improve the model. After that point, however, the model’s ability to generalize can weaken as it begins to overfit the training data.\n",
    "\n",
    "Reduce the network’s capacity by removing layers or reducing the number of elements in the hidden layers\n",
    "Apply regularization, which comes down to adding a cost to the loss function for large weights\n",
    "\n",
    "Use Dropout layer, which will randomly remove certain features by setting them to zero.\n",
    "\n",
    "\n",
    "\n"
   ]
  },
  {
   "cell_type": "markdown",
   "metadata": {},
   "source": [
    "# Optional Explain the meaning of Precision, Recall and F1-Score and why these are used to evaluate Classification models (instead of using Accuracy as a metric)"
   ]
  },
  {
   "cell_type": "markdown",
   "metadata": {},
   "source": [
    "•\tPrecision:\n",
    "Precision is the ability of a classiifer not to label an instance positive that is actually negative. Basically, it is defined as as the ratio of true positives to the sum of true and false positives. “For all instances classified positive, what percent was correct?”\n",
    "•\tRecall:\n",
    "Recall is the ability of a classifier to find all positive instances. For each class it is defined as the ratio of true positives to the sum of true positives and false negatives. “For all instances that were actually positive, what percent was classified correctly?”\n",
    "•\tF1 Score:\n",
    "The F1 score is a weighted harmonic mean of precision and recall such that the best score is 1.0 and the worst is 0.0 . Generally speaking, F1 scores are lower than accuracy measures as they embed precision and recall into their computation.\n",
    "\n",
    "Accuracy is used when the True Positives and True negatives are more important while F1-score is used when the False Negatives and False Positives are crucial\n",
    "Accuracy can be used when the class distribution is similar while F1-score is a better metric when there are imbalanced classes as in the above case.\n",
    "In most real-life classification problems, imbalanced class distribution exists and thus F1-score is a better metric to evaluate our model on.\n",
    "  a model can be 90 % correct but itsuppose on cancer data 5 people having cancer has been misclassified which is  too high cost  so in real life  TP and TN misclassification matters  rather than accuracy so thats why f1 score is used insteead of accuracy\n"
   ]
  },
  {
   "cell_type": "code",
   "execution_count": null,
   "metadata": {},
   "outputs": [],
   "source": []
  }
 ],
 "metadata": {
  "kernelspec": {
   "display_name": "Python 3",
   "language": "python",
   "name": "python3"
  },
  "language_info": {
   "codemirror_mode": {
    "name": "ipython",
    "version": 3
   },
   "file_extension": ".py",
   "mimetype": "text/x-python",
   "name": "python",
   "nbconvert_exporter": "python",
   "pygments_lexer": "ipython3",
   "version": "3.7.6"
  }
 },
 "nbformat": 4,
 "nbformat_minor": 4
}
